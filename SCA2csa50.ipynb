{
  "nbformat": 4,
  "nbformat_minor": 0,
  "metadata": {
    "colab": {
      "name": "SCA2csa50.ipynb",
      "provenance": [],
      "toc_visible": true,
      "authorship_tag": "ABX9TyNKEf6xifBIPYt8yyh2SWwf",
      "include_colab_link": true
    },
    "kernelspec": {
      "name": "python3",
      "display_name": "Python 3"
    }
  },
  "cells": [
    {
      "cell_type": "markdown",
      "metadata": {
        "id": "view-in-github",
        "colab_type": "text"
      },
      "source": [
        "<a href=\"https://colab.research.google.com/github/rohit-rkmr/GSoC-2019-Preparation/blob/master/SCA2csa50.ipynb\" target=\"_parent\"><img src=\"https://colab.research.google.com/assets/colab-badge.svg\" alt=\"Open In Colab\"/></a>"
      ]
    },
    {
      "cell_type": "code",
      "metadata": {
        "id": "ESW7sUudcWB1"
      },
      "source": [
        ""
      ],
      "execution_count": null,
      "outputs": []
    },
    {
      "cell_type": "markdown",
      "metadata": {
        "id": "R513HTOQst01"
      },
      "source": [
        "#**CLASSIFICATION OF IRIS PLANT SPECIES**\n",
        "Submitted by\n",
        "\n",
        "Rohit R\n",
        "\n",
        "CS5A\n",
        "50"
      ]
    },
    {
      "cell_type": "code",
      "metadata": {
        "id": "0X59CFu8tt4W",
        "outputId": "243a56b3-55e2-4bd7-b3c2-05e5dc0f4785",
        "colab": {
          "base_uri": "https://localhost:8080/",
          "height": 134
        }
      },
      "source": [
        "\n",
        "\n",
        "from sklearn.model_selection import train_test_split\n",
        "#for splitting\n",
        "from sklearn.neighbors import KNeighborsClassifier\n",
        "#uses k-nearest neighbors modelk \n",
        "import numpy as np\n",
        "#for using arrays\n",
        "\n",
        "# Import iris dataset \n",
        "from sklearn.datasets import load_iris\n",
        "iris = load_iris()\n",
        "\n",
        "\n",
        "# Split dataset into training and testing sets.\n",
        "X_tr, X_tst, y_tr, y_tst = train_test_split(iris['data'], iris['target'],train_size=0.75,test_size=0.25, random_state=0)\n",
        "# train set and test set are in a 3:4 ratio\n",
        "knn = KNeighborsClassifier(n_neighbors=1)\n",
        "# K=1 so looks for the first closest neighbor\n",
        "knn.fit(X_tr, y_tr)\n",
        "\n",
        "d1 = float(input(\"Enter sepal length : \"))\n",
        "d2 = float(input(\"Enter sepal width : \"))\n",
        "d3 = float(input(\"Enter petal length : \"))\n",
        "d4 = float(input(\"Enter petal width : \"))\n",
        "\n",
        "# let this be our new iris data sample \n",
        "X_new = np.array([[d1,d2,d3,d4]])\n",
        "print(\"Our sample   -  \" + str(X_new));\n",
        "prval = knn.predict(X_new);\n",
        "# print the type by putting the value predicted\n",
        "print('sample species is   '+ str( iris['target_names'][prval]))\n",
        "\n",
        "# prediction score \n",
        "print(str(knn.score(X_tst, y_tst)*100) + ' % accuracy');\n"
      ],
      "execution_count": 46,
      "outputs": [
        {
          "output_type": "stream",
          "text": [
            "Enter sepal length : 3.2\n",
            "Enter sepal width : 2.7\n",
            "Enter petal length : 3\n",
            "Enter petal width : 2.6\n",
            "Our sample   -  [[3.2 2.7 3.  2.6]]\n",
            "sample species is   ['versicolor']\n",
            "97.36842105263158 % accuracy\n"
          ],
          "name": "stdout"
        }
      ]
    }
  ]
}